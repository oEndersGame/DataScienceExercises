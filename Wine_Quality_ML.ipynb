{
 "cells": [
  {
   "cell_type": "markdown",
   "id": "ce09252c-ce41-4657-b496-0b7252f61c72",
   "metadata": {},
   "source": [
    "# Wine-Quality dataset\n",
    "Code example of basic data pre-processing and Machine Learning models"
   ]
  },
  {
   "cell_type": "code",
   "execution_count": 1,
   "id": "223b2ff2-954c-47fc-88a6-2db23a2d60bf",
   "metadata": {},
   "outputs": [],
   "source": [
    "import pandas as pd\n",
    "import numpy as np\n",
    "import matplotlib.pyplot as plt\n",
    "import seaborn as sns\n",
    "import os\n",
    "\n",
    "from sklearn.preprocessing import StandardScaler, MinMaxScaler, RobustScaler\n",
    "from sklearn.model_selection import train_test_split\n",
    "from sklearn.tree import DecisionTreeClassifier\n",
    "from sklearn.ensemble import RandomForestClassifier\n",
    "from sklearn.metrics import accuracy_score, precision_score, recall_score, confusion_matrix"
   ]
  },
  {
   "cell_type": "code",
   "execution_count": 3,
   "id": "4411e4cf-03f8-428c-99d9-b14bfba39c58",
   "metadata": {},
   "outputs": [
    {
     "data": {
      "text/plain": [
       "'/Users/wdfm'"
      ]
     },
     "execution_count": 3,
     "metadata": {},
     "output_type": "execute_result"
    }
   ],
   "source": [
    "os.getcwd()"
   ]
  },
  {
   "cell_type": "code",
   "execution_count": 4,
   "id": "dbba5960-4d63-4e66-9f60-bab30a832528",
   "metadata": {},
   "outputs": [],
   "source": [
    "os.chdir(\"Desktop/\")"
   ]
  },
  {
   "cell_type": "code",
   "execution_count": 5,
   "id": "b57cfded-ed5f-4806-b59d-ccbd1d799273",
   "metadata": {},
   "outputs": [],
   "source": [
    "# Read-in dataset:\n",
    "data_red = pd.read_csv(\"winequality-red.csv\", sep = \";\")"
   ]
  },
  {
   "cell_type": "code",
   "execution_count": 6,
   "id": "6db8cc96-8456-412f-a613-dbd2a6c7bad4",
   "metadata": {},
   "outputs": [
    {
     "data": {
      "text/plain": [
       "(1599, 12)"
      ]
     },
     "execution_count": 6,
     "metadata": {},
     "output_type": "execute_result"
    }
   ],
   "source": [
    "# Get dimensionality of dataset:\n",
    "data_red.shape"
   ]
  },
  {
   "cell_type": "code",
   "execution_count": 7,
   "id": "84d43605-8d2e-46ae-995b-6ff358f2645e",
   "metadata": {},
   "outputs": [
    {
     "data": {
      "text/plain": [
       "Index(['fixed acidity', 'volatile acidity', 'citric acid', 'residual sugar',\n",
       "       'chlorides', 'free sulfur dioxide', 'total sulfur dioxide', 'density',\n",
       "       'pH', 'sulphates', 'alcohol', 'quality'],\n",
       "      dtype='object')"
      ]
     },
     "execution_count": 7,
     "metadata": {},
     "output_type": "execute_result"
    }
   ],
   "source": [
    "# Get column names:\n",
    "data_red.columns"
   ]
  },
  {
   "cell_type": "code",
   "execution_count": 8,
   "id": "790cede4-2171-437a-9087-fb0fc0057d8f",
   "metadata": {},
   "outputs": [
    {
     "data": {
      "text/plain": [
       "False"
      ]
     },
     "execution_count": 8,
     "metadata": {},
     "output_type": "execute_result"
    }
   ],
   "source": [
    "# Check for missing values:\n",
    "data_red.isna().values.any()"
   ]
  },
  {
   "cell_type": "code",
   "execution_count": 9,
   "id": "e849322a-e0b0-496e-953e-43cc7f211e33",
   "metadata": {},
   "outputs": [
    {
     "data": {
      "text/plain": [
       "0"
      ]
     },
     "execution_count": 9,
     "metadata": {},
     "output_type": "execute_result"
    }
   ],
   "source": [
    "data_red.isna().sum().sum()"
   ]
  },
  {
   "cell_type": "code",
   "execution_count": null,
   "id": "064047a1-c697-4bfd-9420-4a8bb35bc273",
   "metadata": {},
   "outputs": [],
   "source": []
  },
  {
   "cell_type": "code",
   "execution_count": 10,
   "id": "87a9806f-faf7-4fdc-9bd5-fcbbc8dd4f67",
   "metadata": {},
   "outputs": [
    {
     "data": {
      "text/html": [
       "<div>\n",
       "<style scoped>\n",
       "    .dataframe tbody tr th:only-of-type {\n",
       "        vertical-align: middle;\n",
       "    }\n",
       "\n",
       "    .dataframe tbody tr th {\n",
       "        vertical-align: top;\n",
       "    }\n",
       "\n",
       "    .dataframe thead th {\n",
       "        text-align: right;\n",
       "    }\n",
       "</style>\n",
       "<table border=\"1\" class=\"dataframe\">\n",
       "  <thead>\n",
       "    <tr style=\"text-align: right;\">\n",
       "      <th></th>\n",
       "      <th>fixed acidity</th>\n",
       "      <th>volatile acidity</th>\n",
       "      <th>citric acid</th>\n",
       "      <th>residual sugar</th>\n",
       "      <th>chlorides</th>\n",
       "      <th>free sulfur dioxide</th>\n",
       "      <th>total sulfur dioxide</th>\n",
       "      <th>density</th>\n",
       "      <th>pH</th>\n",
       "      <th>sulphates</th>\n",
       "      <th>alcohol</th>\n",
       "      <th>quality</th>\n",
       "    </tr>\n",
       "  </thead>\n",
       "  <tbody>\n",
       "    <tr>\n",
       "      <th>count</th>\n",
       "      <td>1599.000000</td>\n",
       "      <td>1599.000000</td>\n",
       "      <td>1599.000000</td>\n",
       "      <td>1599.000000</td>\n",
       "      <td>1599.000000</td>\n",
       "      <td>1599.000000</td>\n",
       "      <td>1599.000000</td>\n",
       "      <td>1599.000000</td>\n",
       "      <td>1599.000000</td>\n",
       "      <td>1599.000000</td>\n",
       "      <td>1599.000000</td>\n",
       "      <td>1599.000000</td>\n",
       "    </tr>\n",
       "    <tr>\n",
       "      <th>mean</th>\n",
       "      <td>8.319637</td>\n",
       "      <td>0.527821</td>\n",
       "      <td>0.270976</td>\n",
       "      <td>2.538806</td>\n",
       "      <td>0.087467</td>\n",
       "      <td>15.874922</td>\n",
       "      <td>46.467792</td>\n",
       "      <td>0.996747</td>\n",
       "      <td>3.311113</td>\n",
       "      <td>0.658149</td>\n",
       "      <td>10.422983</td>\n",
       "      <td>5.636023</td>\n",
       "    </tr>\n",
       "    <tr>\n",
       "      <th>std</th>\n",
       "      <td>1.741096</td>\n",
       "      <td>0.179060</td>\n",
       "      <td>0.194801</td>\n",
       "      <td>1.409928</td>\n",
       "      <td>0.047065</td>\n",
       "      <td>10.460157</td>\n",
       "      <td>32.895324</td>\n",
       "      <td>0.001887</td>\n",
       "      <td>0.154386</td>\n",
       "      <td>0.169507</td>\n",
       "      <td>1.065668</td>\n",
       "      <td>0.807569</td>\n",
       "    </tr>\n",
       "    <tr>\n",
       "      <th>min</th>\n",
       "      <td>4.600000</td>\n",
       "      <td>0.120000</td>\n",
       "      <td>0.000000</td>\n",
       "      <td>0.900000</td>\n",
       "      <td>0.012000</td>\n",
       "      <td>1.000000</td>\n",
       "      <td>6.000000</td>\n",
       "      <td>0.990070</td>\n",
       "      <td>2.740000</td>\n",
       "      <td>0.330000</td>\n",
       "      <td>8.400000</td>\n",
       "      <td>3.000000</td>\n",
       "    </tr>\n",
       "    <tr>\n",
       "      <th>25%</th>\n",
       "      <td>7.100000</td>\n",
       "      <td>0.390000</td>\n",
       "      <td>0.090000</td>\n",
       "      <td>1.900000</td>\n",
       "      <td>0.070000</td>\n",
       "      <td>7.000000</td>\n",
       "      <td>22.000000</td>\n",
       "      <td>0.995600</td>\n",
       "      <td>3.210000</td>\n",
       "      <td>0.550000</td>\n",
       "      <td>9.500000</td>\n",
       "      <td>5.000000</td>\n",
       "    </tr>\n",
       "    <tr>\n",
       "      <th>50%</th>\n",
       "      <td>7.900000</td>\n",
       "      <td>0.520000</td>\n",
       "      <td>0.260000</td>\n",
       "      <td>2.200000</td>\n",
       "      <td>0.079000</td>\n",
       "      <td>14.000000</td>\n",
       "      <td>38.000000</td>\n",
       "      <td>0.996750</td>\n",
       "      <td>3.310000</td>\n",
       "      <td>0.620000</td>\n",
       "      <td>10.200000</td>\n",
       "      <td>6.000000</td>\n",
       "    </tr>\n",
       "    <tr>\n",
       "      <th>75%</th>\n",
       "      <td>9.200000</td>\n",
       "      <td>0.640000</td>\n",
       "      <td>0.420000</td>\n",
       "      <td>2.600000</td>\n",
       "      <td>0.090000</td>\n",
       "      <td>21.000000</td>\n",
       "      <td>62.000000</td>\n",
       "      <td>0.997835</td>\n",
       "      <td>3.400000</td>\n",
       "      <td>0.730000</td>\n",
       "      <td>11.100000</td>\n",
       "      <td>6.000000</td>\n",
       "    </tr>\n",
       "    <tr>\n",
       "      <th>max</th>\n",
       "      <td>15.900000</td>\n",
       "      <td>1.580000</td>\n",
       "      <td>1.000000</td>\n",
       "      <td>15.500000</td>\n",
       "      <td>0.611000</td>\n",
       "      <td>72.000000</td>\n",
       "      <td>289.000000</td>\n",
       "      <td>1.003690</td>\n",
       "      <td>4.010000</td>\n",
       "      <td>2.000000</td>\n",
       "      <td>14.900000</td>\n",
       "      <td>8.000000</td>\n",
       "    </tr>\n",
       "  </tbody>\n",
       "</table>\n",
       "</div>"
      ],
      "text/plain": [
       "       fixed acidity  volatile acidity  citric acid  residual sugar  \\\n",
       "count    1599.000000       1599.000000  1599.000000     1599.000000   \n",
       "mean        8.319637          0.527821     0.270976        2.538806   \n",
       "std         1.741096          0.179060     0.194801        1.409928   \n",
       "min         4.600000          0.120000     0.000000        0.900000   \n",
       "25%         7.100000          0.390000     0.090000        1.900000   \n",
       "50%         7.900000          0.520000     0.260000        2.200000   \n",
       "75%         9.200000          0.640000     0.420000        2.600000   \n",
       "max        15.900000          1.580000     1.000000       15.500000   \n",
       "\n",
       "         chlorides  free sulfur dioxide  total sulfur dioxide      density  \\\n",
       "count  1599.000000          1599.000000           1599.000000  1599.000000   \n",
       "mean      0.087467            15.874922             46.467792     0.996747   \n",
       "std       0.047065            10.460157             32.895324     0.001887   \n",
       "min       0.012000             1.000000              6.000000     0.990070   \n",
       "25%       0.070000             7.000000             22.000000     0.995600   \n",
       "50%       0.079000            14.000000             38.000000     0.996750   \n",
       "75%       0.090000            21.000000             62.000000     0.997835   \n",
       "max       0.611000            72.000000            289.000000     1.003690   \n",
       "\n",
       "                pH    sulphates      alcohol      quality  \n",
       "count  1599.000000  1599.000000  1599.000000  1599.000000  \n",
       "mean      3.311113     0.658149    10.422983     5.636023  \n",
       "std       0.154386     0.169507     1.065668     0.807569  \n",
       "min       2.740000     0.330000     8.400000     3.000000  \n",
       "25%       3.210000     0.550000     9.500000     5.000000  \n",
       "50%       3.310000     0.620000    10.200000     6.000000  \n",
       "75%       3.400000     0.730000    11.100000     6.000000  \n",
       "max       4.010000     2.000000    14.900000     8.000000  "
      ]
     },
     "execution_count": 10,
     "metadata": {},
     "output_type": "execute_result"
    }
   ],
   "source": [
    "# Get data statistics:\n",
    "data_red.describe()"
   ]
  },
  {
   "cell_type": "code",
   "execution_count": 11,
   "id": "2acdf202-5754-4f59-b140-2d2203fd95f7",
   "metadata": {},
   "outputs": [
    {
     "name": "stdout",
     "output_type": "stream",
     "text": [
      "fixed acidity has 0.983 skewness\n",
      "volatile acidity has 0.672 skewness\n",
      "citric acid has 0.318 skewness\n",
      "residual sugar has 4.541 skewness\n",
      "chlorides has 5.680 skewness\n",
      "free sulfur dioxide has 1.251 skewness\n",
      "total sulfur dioxide has 1.516 skewness\n",
      "density has 0.071 skewness\n",
      "pH has 0.194 skewness\n",
      "sulphates has 2.429 skewness\n",
      "alcohol has 0.861 skewness\n",
      "quality has 0.218 skewness\n"
     ]
    }
   ],
   "source": [
    "# Compute skewness for numeric columns:\n",
    "for col in data_red.columns:\n",
    "    print(f\"{col} has {data_red[col].skew():.3f} skewness\")"
   ]
  },
  {
   "cell_type": "code",
   "execution_count": null,
   "id": "63f43c26-86be-4aa6-a063-f4f7fd71236f",
   "metadata": {},
   "outputs": [],
   "source": []
  },
  {
   "cell_type": "code",
   "execution_count": null,
   "id": "25317c51-a8b0-4ede-8eb3-0195e33b5a09",
   "metadata": {},
   "outputs": [],
   "source": []
  },
  {
   "cell_type": "code",
   "execution_count": 12,
   "id": "c7b2093a-a52c-4a96-b3c1-88d3effdaf7c",
   "metadata": {},
   "outputs": [
    {
     "name": "stdout",
     "output_type": "stream",
     "text": [
      "number of bins using rule of thumb = 40\n"
     ]
    }
   ],
   "source": [
    "# Compute bin size using rule of thumb:\n",
    "num_bins = int(np.ceil(np.sqrt(len(data_red))))\n",
    "\n",
    "print(f\"number of bins using rule of thumb = {num_bins}\")"
   ]
  },
  {
   "cell_type": "code",
   "execution_count": null,
   "id": "f9634ebc-7021-4d69-a89f-6cc6a2600500",
   "metadata": {},
   "outputs": [],
   "source": []
  },
  {
   "cell_type": "code",
   "execution_count": null,
   "id": "fb38014c-a778-4f98-b530-95b2b709cc2d",
   "metadata": {},
   "outputs": [],
   "source": []
  },
  {
   "cell_type": "code",
   "execution_count": 13,
   "id": "836debbe-d2ef-40cd-b8c7-e399a61b2d41",
   "metadata": {},
   "outputs": [
    {
     "data": {
      "image/png": "[encoded data removed]",
      "text/plain": [
       "<Figure size 576x432 with 1 Axes>"
      ]
     },
     "metadata": {
      "needs_background": "light"
     },
     "output_type": "display_data"
    }
   ],
   "source": [
    "# Visualize correlation between 2 columns:\n",
    "plt.figure(figsize = (8, 6))\n",
    "sns.scatterplot(x = data_red['fixed acidity'], y = data_red['volatile acidity'])\n",
    "plt.title(\"Correlation with scatterplot\")\n",
    "plt.show()\n",
    "\n",
    "# NOTE: It appears to have a negative trend/correlation!"
   ]
  },
  {
   "cell_type": "code",
   "execution_count": null,
   "id": "d57c38ce-f6a6-473f-a9bf-4d4edd2c543b",
   "metadata": {},
   "outputs": [],
   "source": []
  },
  {
   "cell_type": "code",
   "execution_count": null,
   "id": "2f3a7aaa-b0f0-4d8b-b090-47cf6c2e9381",
   "metadata": {},
   "outputs": [],
   "source": []
  },
  {
   "cell_type": "markdown",
   "id": "c333f679-e013-45ff-9136-6b3925d11cd5",
   "metadata": {},
   "source": [
    "### Visualize distribution of numeric columns:"
   ]
  },
  {
   "cell_type": "code",
   "execution_count": 14,
   "id": "6cdb7ad0-62d7-402f-a1a1-83211057b616",
   "metadata": {},
   "outputs": [
    {
     "data": {
      "image/png": "[encoded data removed]",
      "text/plain": [
       "<Figure size 432x288 with 1 Axes>"
      ]
     },
     "metadata": {
      "needs_background": "light"
     },
     "output_type": "display_data"
    }
   ],
   "source": [
    "sns.histplot(data = data_red['fixed acidity'], bins = num_bins)\n",
    "plt.title(\"Distribution for 'fixed acidity' attribute\")\n",
    "plt.show()"
   ]
  },
  {
   "cell_type": "code",
   "execution_count": 15,
   "id": "669805c0-1953-45d9-bbe1-d6baaa878e07",
   "metadata": {},
   "outputs": [
    {
     "data": {
      "image/png": "[encoded data removed]",
      "text/plain": [
       "<Figure size 432x288 with 1 Axes>"
      ]
     },
     "metadata": {
      "needs_background": "light"
     },
     "output_type": "display_data"
    }
   ],
   "source": [
    "sns.histplot(data = data_red['chlorides'], bins = num_bins)\n",
    "plt.title(\"Distribution for 'chlorides' attribute\")\n",
    "plt.show()"
   ]
  },
  {
   "cell_type": "code",
   "execution_count": 16,
   "id": "c0042341-bc7e-47fd-a5db-2ff8e0358b23",
   "metadata": {},
   "outputs": [
    {
     "data": {
      "image/png": "[encoded data removed]",
      "text/plain": [
       "<Figure size 432x288 with 1 Axes>"
      ]
     },
     "metadata": {
      "needs_background": "light"
     },
     "output_type": "display_data"
    }
   ],
   "source": [
    "sns.histplot(data = data_red['total sulfur dioxide'], bins = num_bins)\n",
    "plt.title(\"Distribution for 'total sulfur dioxide' attribute\")\n",
    "plt.show()"
   ]
  },
  {
   "cell_type": "code",
   "execution_count": null,
   "id": "77f6bb3d-0e34-4186-917f-86c4ba42de37",
   "metadata": {},
   "outputs": [],
   "source": []
  },
  {
   "cell_type": "code",
   "execution_count": 17,
   "id": "63d1a160-b269-4418-9b56-98a328531dd0",
   "metadata": {},
   "outputs": [
    {
     "data": {
      "image/png": "[encoded data removed]",
      "text/plain": [
       "<Figure size 432x288 with 1 Axes>"
      ]
     },
     "metadata": {},
     "output_type": "display_data"
    }
   ],
   "source": [
    "# Set a grey background:\n",
    "sns.set(style = 'darkgrid')\n",
    "\n",
    "sns.histplot(data = data_red['fixed acidity'], color = 'skyblue', label = 'fixed acidity', kde = False)\n",
    "sns.histplot(data = data_red['free sulfur dioxide'], color = 'red', label = 'free sulfur dioxide', kde = False)\n",
    "plt.legend(loc = 'best')\n",
    "plt.show()"
   ]
  },
  {
   "cell_type": "code",
   "execution_count": null,
   "id": "cb935bf8-23f4-4f46-aed4-36ff848a0c87",
   "metadata": {},
   "outputs": [],
   "source": []
  },
  {
   "cell_type": "code",
   "execution_count": 18,
   "id": "4077a8bc-6d12-4196-b2b4-4fb7c8165743",
   "metadata": {},
   "outputs": [
    {
     "data": {
      "image/png": "[encoded data removed]",
      "text/plain": [
       "<Figure size 648x504 with 1 Axes>"
      ]
     },
     "metadata": {},
     "output_type": "display_data"
    }
   ],
   "source": [
    "plt.figure(figsize = (9, 7))\n",
    "sns.boxplot(data = data_red)\n",
    "plt.xticks(rotation = 30)\n",
    "plt.title(\"Data Distribution - Wine Quality\")\n",
    "plt.show() "
   ]
  },
  {
   "cell_type": "code",
   "execution_count": null,
   "id": "6c204c30-fcbb-47bd-a9f9-93fe563e36b1",
   "metadata": {},
   "outputs": [],
   "source": []
  },
  {
   "cell_type": "code",
   "execution_count": 19,
   "id": "923b9ab6-22f4-4926-9cb0-a96b78686216",
   "metadata": {},
   "outputs": [
    {
     "data": {
      "text/plain": [
       "5    681\n",
       "6    638\n",
       "7    199\n",
       "4     53\n",
       "8     18\n",
       "3     10\n",
       "Name: quality, dtype: int64"
      ]
     },
     "execution_count": 19,
     "metadata": {},
     "output_type": "execute_result"
    }
   ],
   "source": [
    "# Distribution of target column:\n",
    "data_red['quality'].value_counts()"
   ]
  },
  {
   "cell_type": "code",
   "execution_count": 20,
   "id": "12f39c45-18da-4e65-acfa-2bf29b3ab387",
   "metadata": {},
   "outputs": [
    {
     "data": {
      "image/png": "[encoded data removed]",
      "text/plain": [
       "<Figure size 432x288 with 1 Axes>"
      ]
     },
     "metadata": {},
     "output_type": "display_data"
    }
   ],
   "source": [
    "data_red['quality'].value_counts().plot(kind = 'bar')\n",
    "plt.xticks(rotation = 0)\n",
    "plt.title(\"Target distribution\")\n",
    "plt.show()"
   ]
  },
  {
   "cell_type": "code",
   "execution_count": null,
   "id": "82c3454a-01c9-46cd-89da-c6ae94695ae9",
   "metadata": {},
   "outputs": [],
   "source": []
  },
  {
   "cell_type": "code",
   "execution_count": null,
   "id": "24a36935-8573-4d35-a195-a23d19adb931",
   "metadata": {},
   "outputs": [],
   "source": []
  },
  {
   "cell_type": "code",
   "execution_count": 21,
   "id": "e03ab537-77e5-4420-8a9d-036ec8772325",
   "metadata": {},
   "outputs": [],
   "source": [
    "# Split dataset into features (X) and target (y):\n",
    "X = data_red.drop('quality', axis = 1, inplace = False)\n",
    "y = data_red['quality']"
   ]
  },
  {
   "cell_type": "code",
   "execution_count": null,
   "id": "c8363db3-c065-43f6-9fe1-740d6267676a",
   "metadata": {},
   "outputs": [],
   "source": []
  },
  {
   "cell_type": "code",
   "execution_count": 22,
   "id": "59ddc87b-fffb-416b-b4b7-f6ca516f15e9",
   "metadata": {},
   "outputs": [],
   "source": [
    "# Scale data for ML models:\n",
    "std_scaler = StandardScaler()\n",
    "data_red_scaled = std_scaler.fit_transform(X)"
   ]
  },
  {
   "cell_type": "code",
   "execution_count": null,
   "id": "79f1c6aa-5b0d-4751-9335-de6ac098f10c",
   "metadata": {},
   "outputs": [],
   "source": []
  },
  {
   "cell_type": "code",
   "execution_count": 23,
   "id": "d2b356b0-8d51-476d-806f-598759eeb981",
   "metadata": {},
   "outputs": [],
   "source": [
    "X_scaled = pd.DataFrame(data_red_scaled, columns = X.columns)"
   ]
  },
  {
   "cell_type": "code",
   "execution_count": 24,
   "id": "3ad426ea-d7fc-4ec7-9916-bc7cbbf758c3",
   "metadata": {},
   "outputs": [],
   "source": [
    "# Get training and validation sets:\n",
    "X_train, X_test, y_train, y_test = train_test_split(X_scaled, y, test_size = 0.3)"
   ]
  },
  {
   "cell_type": "code",
   "execution_count": 25,
   "id": "74b286c0-fcd7-4047-bb01-40f45b42d56e",
   "metadata": {},
   "outputs": [
    {
     "name": "stdout",
     "output_type": "stream",
     "text": [
      "X_train.shape: (1119, 11), y_train.shape: (1119,)\n",
      "X_test.shape: (480, 11), y_test.shape: (480,)\n"
     ]
    }
   ],
   "source": [
    "print(f\"X_train.shape: {X_train.shape}, y_train.shape: {y_train.shape}\")\n",
    "print(f\"X_test.shape: {X_test.shape}, y_test.shape: {y_test.shape}\")"
   ]
  },
  {
   "cell_type": "code",
   "execution_count": null,
   "id": "001f54d0-d753-4682-b517-f51a4694b682",
   "metadata": {},
   "outputs": [],
   "source": []
  },
  {
   "cell_type": "code",
   "execution_count": null,
   "id": "ad827d06-4a89-4d75-bda2-1dd90ede87bb",
   "metadata": {},
   "outputs": [],
   "source": []
  },
  {
   "cell_type": "code",
   "execution_count": 26,
   "id": "6076e394-149c-4a7c-bd07-8a2fa572b672",
   "metadata": {},
   "outputs": [
    {
     "data": {
      "text/plain": [
       "DecisionTreeClassifier()"
      ]
     },
     "execution_count": 26,
     "metadata": {},
     "output_type": "execute_result"
    }
   ],
   "source": [
    "# Decision Tree classifier:\n",
    "dt_clf = DecisionTreeClassifier()\n",
    "dt_clf.fit(X_train, y_train)"
   ]
  },
  {
   "cell_type": "code",
   "execution_count": 27,
   "id": "4ee895c7-06ee-425f-8063-4467d6ed8485",
   "metadata": {},
   "outputs": [],
   "source": [
    "# Make predictions using trained model:\n",
    "y_pred = dt_clf.predict(X_test)"
   ]
  },
  {
   "cell_type": "code",
   "execution_count": 28,
   "id": "c2c0b602-d98d-4090-be39-5658476d7e33",
   "metadata": {},
   "outputs": [],
   "source": [
    "# Get model metrics:\n",
    "acc = accuracy_score(y_test, y_pred)\n",
    "prec = precision_score(y_test, y_pred, average = 'macro')\n",
    "rec = recall_score(y_test, y_pred, average = 'macro')"
   ]
  },
  {
   "cell_type": "code",
   "execution_count": 29,
   "id": "8e98d806-9163-4715-ba5a-2ac1314fcfde",
   "metadata": {},
   "outputs": [
    {
     "name": "stdout",
     "output_type": "stream",
     "text": [
      "Decision Tree classifier (base) metrics on validation dataset are:\n",
      "accuracy = 56.46%, precision = 29.22% & recall = 29.99%\n"
     ]
    }
   ],
   "source": [
    "print(\"Decision Tree classifier (base) metrics on validation dataset are:\")\n",
    "print(f\"accuracy = {acc * 100:.2f}%, precision = {prec * 100:.2f}% & \"\n",
    "      f\"recall = {rec * 100:.2f}%\"\n",
    "     )"
   ]
  },
  {
   "cell_type": "code",
   "execution_count": 30,
   "id": "850cca48-60af-435f-80ed-6fb51781e888",
   "metadata": {},
   "outputs": [
    {
     "name": "stdout",
     "output_type": "stream",
     "text": [
      "Confusion matrix (Decision Tree base):\n",
      "\n",
      "[[  0   0   3   0   0   0]\n",
      " [  0   1   5   6   0   0]\n",
      " [  0  11 136  57  12   0]\n",
      " [  1   4  44  99  26   4]\n",
      " [  0   0   2  28  35   1]\n",
      " [  0   0   1   1   3   0]]\n"
     ]
    }
   ],
   "source": [
    "print(f\"Confusion matrix (Decision Tree base):\\n\\n\"\n",
    "      f\"{confusion_matrix(y_test, y_pred)}\")"
   ]
  },
  {
   "cell_type": "code",
   "execution_count": null,
   "id": "c54475c5-c13d-412b-a6e2-fca3b9aa1d89",
   "metadata": {},
   "outputs": [],
   "source": []
  },
  {
   "cell_type": "code",
   "execution_count": null,
   "id": "a5c96632-b169-4de9-81c7-7448937dab94",
   "metadata": {},
   "outputs": [],
   "source": []
  },
  {
   "cell_type": "code",
   "execution_count": 31,
   "id": "265a8dd0-193c-4ef2-a3e9-9302c166518d",
   "metadata": {},
   "outputs": [
    {
     "data": {
      "text/plain": [
       "RandomForestClassifier(n_estimators=250)"
      ]
     },
     "execution_count": 31,
     "metadata": {},
     "output_type": "execute_result"
    }
   ],
   "source": [
    "# Use RandomForest classifier:\n",
    "rf_clf = RandomForestClassifier(n_estimators = 250)\n",
    "rf_clf.fit(X_train, y_train)"
   ]
  },
  {
   "cell_type": "code",
   "execution_count": 32,
   "id": "3547ecdc-2401-42df-86f7-607239844b68",
   "metadata": {},
   "outputs": [],
   "source": [
    "# Make predictions using trained model:\n",
    "y_pred_rf = rf_clf.predict(X_test)"
   ]
  },
  {
   "cell_type": "code",
   "execution_count": 33,
   "id": "b67fd764-d6c6-444d-87b6-0f47ccdd7d3f",
   "metadata": {},
   "outputs": [],
   "source": [
    "# Get model metrics:\n",
    "acc_rf = accuracy_score(y_test, y_pred_rf)\n",
    "prec_rf = precision_score(y_test, y_pred_rf, average = 'macro')\n",
    "rec_rf = recall_score(y_test, y_pred_rf, average = 'macro')"
   ]
  },
  {
   "cell_type": "code",
   "execution_count": 34,
   "id": "b763c1ac-2cc0-4ae4-a7b0-9b0c5ed220a0",
   "metadata": {},
   "outputs": [
    {
     "name": "stdout",
     "output_type": "stream",
     "text": [
      "RandomForest Tree classifier (trees = 250) metrics on validation dataset are:\n",
      "accuracy = 69.38%, precision = 36.19% & recall = 33.55%\n"
     ]
    }
   ],
   "source": [
    "print(\"RandomForest Tree classifier (trees = 250) metrics on validation dataset are:\")\n",
    "print(f\"accuracy = {acc_rf * 100:.2f}%, precision = {prec_rf * 100:.2f}% & \"\n",
    "      f\"recall = {rec_rf * 100:.2f}%\"\n",
    "     )"
   ]
  },
  {
   "cell_type": "code",
   "execution_count": 35,
   "id": "e6105415-1aab-44ea-b163-507305b64da2",
   "metadata": {},
   "outputs": [
    {
     "name": "stdout",
     "output_type": "stream",
     "text": [
      "Confusion matrix (RandomForest; 250 trees):\n",
      "\n",
      "[[  0   0   2   1   0   0]\n",
      " [  0   0   8   3   1   0]\n",
      " [  2   2 165  46   1   0]\n",
      " [  0   0  36 136   6   0]\n",
      " [  0   0   1  32  32   1]\n",
      " [  0   0   0   4   1   0]]\n"
     ]
    }
   ],
   "source": [
    "print(f\"Confusion matrix (RandomForest; 250 trees):\\n\\n\"\n",
    "      f\"{confusion_matrix(y_test, y_pred_rf)}\")"
   ]
  },
  {
   "cell_type": "code",
   "execution_count": null,
   "id": "365c1272-e4cf-4d37-92cf-e1041006dc9c",
   "metadata": {},
   "outputs": [],
   "source": []
  },
  {
   "cell_type": "code",
   "execution_count": null,
   "id": "1f75ad28-4d4e-40ad-a2c5-aaa5e0dd9b31",
   "metadata": {},
   "outputs": [],
   "source": []
  }
 ],
 "metadata": {
  "kernelspec": {
   "display_name": "Python 3 (ipykernel)",
   "language": "python",
   "name": "python3"
  },
  "language_info": {
   "codemirror_mode": {
    "name": "ipython",
    "version": 3
   },
   "file_extension": ".py",
   "mimetype": "text/x-python",
   "name": "python",
   "nbconvert_exporter": "python",
   "pygments_lexer": "ipython3",
   "version": "3.9.7"
  }
 },
 "nbformat": 4,
 "nbformat_minor": 5
}
